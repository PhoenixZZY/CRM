{
 "cells": [
  {
   "cell_type": "code",
   "execution_count": 2,
   "metadata": {},
   "outputs": [],
   "source": [
    "import pandas as pd\n",
    "import numpy as np\n",
    "from scipy import stats"
   ]
  },
  {
   "cell_type": "code",
   "execution_count": 27,
   "metadata": {},
   "outputs": [],
   "source": [
    "df=pd.read_csv('Development_sample_2.csv')\n",
    "#/C:/myfolder/Deverlopment_sample_2.csv"
   ]
  },
  {
   "cell_type": "code",
   "execution_count": 28,
   "metadata": {},
   "outputs": [
    {
     "name": "stdout",
     "output_type": "stream",
     "text": [
      "      Unnamed: 0      ID FLAGBINARY                  PHONE        MSTAT  \\\n",
      "0              0     1.0        Bad      Home number given       Single   \n",
      "1              1     2.0       Good      Home number given       Single   \n",
      "2              2     3.0        Bad  No phone number given      Married   \n",
      "3              3     5.0        Bad  No phone number given      Widowed   \n",
      "4              4     6.0       Good      Home number given      Married   \n",
      "...          ...     ...        ...                    ...          ...   \n",
      "4995        4995  6993.0        Bad      Home number given       Single   \n",
      "4996        4996  6994.0       Good      Home number given      Married   \n",
      "4997        4997  6997.0       Good  No phone number given     Divorced   \n",
      "4998        4998  6998.0       Good      Home number given      Married   \n",
      "4999        4999  7000.0       Good      Home number given  Co-habiting   \n",
      "\n",
      "              RSTAT  KIDS                    CARDI CARDH2   AGE  ...  \\\n",
      "0      Renting flat   0.0  No card insurance taken     No  65.0  ...   \n",
      "1      Renting flat   0.0  No card insurance taken     No  22.0  ...   \n",
      "2     Renting house   3.0  No card insurance taken     No  41.0  ...   \n",
      "3        Home owner   6.0  No card insurance taken     No  40.0  ...   \n",
      "4      Renting flat   0.0  No card insurance taken     No  70.0  ...   \n",
      "...             ...   ...                      ...    ...   ...  ...   \n",
      "4995   Renting flat   0.0  No card insurance taken     No  24.0  ...   \n",
      "4996   Renting flat   1.0  No card insurance taken     No  34.0  ...   \n",
      "4997     Home owner   2.0  No card insurance taken     No  35.0  ...   \n",
      "4998   Renting flat   2.0  No card insurance taken     No  39.0  ...   \n",
      "4999   Renting flat   1.0  No card insurance taken     No  25.0  ...   \n",
      "\n",
      "      AgeGrouped  Age_d_1  Age_d_2  Age_d_3  Age_d_4  Age_d_5  Age_d_6  \\\n",
      "0           10.0      0.0      0.0      0.0      0.0      0.0      0.0   \n",
      "1            1.0      1.0      0.0      0.0      0.0      0.0      0.0   \n",
      "2            6.0      0.0      0.0      0.0      0.0      0.0      1.0   \n",
      "3            6.0      0.0      0.0      0.0      0.0      0.0      1.0   \n",
      "4           10.0      0.0      0.0      0.0      0.0      0.0      0.0   \n",
      "...          ...      ...      ...      ...      ...      ...      ...   \n",
      "4995         2.0      0.0      1.0      0.0      0.0      0.0      0.0   \n",
      "4996         5.0      0.0      0.0      0.0      0.0      1.0      0.0   \n",
      "4997         6.0      0.0      0.0      0.0      0.0      0.0      1.0   \n",
      "4998         6.0      0.0      0.0      0.0      0.0      0.0      1.0   \n",
      "4999         2.0      0.0      1.0      0.0      0.0      0.0      0.0   \n",
      "\n",
      "      Age_d_7  Age_d_8 AgeWoe  \n",
      "0         0.0      1.0   1.13  \n",
      "1         0.0      0.0  -0.93  \n",
      "2         0.0      0.0   0.23  \n",
      "3         0.0      0.0   0.23  \n",
      "4         0.0      1.0   1.13  \n",
      "...       ...      ...    ...  \n",
      "4995      0.0      0.0  -0.69  \n",
      "4996      0.0      0.0   0.47  \n",
      "4997      0.0      0.0   0.23  \n",
      "4998      0.0      0.0   0.23  \n",
      "4999      0.0      0.0  -0.69  \n",
      "\n",
      "[5000 rows x 30 columns]\n"
     ]
    }
   ],
   "source": [
    "print(df)"
   ]
  },
  {
   "cell_type": "code",
   "execution_count": 5,
   "metadata": {},
   "outputs": [
    {
     "data": {
      "text/plain": [
       "Home number given        4633\n",
       "No phone number given     351\n",
       "'Other number given        16\n",
       "Name: PHONE, dtype: int64"
      ]
     },
     "execution_count": 5,
     "metadata": {},
     "output_type": "execute_result"
    }
   ],
   "source": [
    "df['PHONE'].value_counts()"
   ]
  },
  {
   "cell_type": "code",
   "execution_count": 29,
   "metadata": {},
   "outputs": [],
   "source": [
    "cross1=pd.crosstab(df['PHONE'],df['FLAGBINARY'],margins=True,margins_name='Total')\n",
    "cross2=pd.crosstab(df['PHONE'],df['FLAGBINARY'],normalize='index')"
   ]
  },
  {
   "cell_type": "code",
   "execution_count": 32,
   "metadata": {},
   "outputs": [
    {
     "name": "stdout",
     "output_type": "stream",
     "text": [
      "FLAGBINARY             Bad  Good  Total\n",
      "PHONE                                  \n",
      "'Other number given      2    14     16\n",
      "Home number given      645  3988   4633\n",
      "No phone number given  100   251    351\n",
      "Total                  747  4253   5000\n"
     ]
    }
   ],
   "source": [
    "print(cross1)"
   ]
  },
  {
   "cell_type": "code",
   "execution_count": 8,
   "metadata": {},
   "outputs": [
    {
     "name": "stdout",
     "output_type": "stream",
     "text": [
      "[[   2   14]\n",
      " [ 645 3988]]\n"
     ]
    }
   ],
   "source": [
    "#c, p, dof, expected = stats.chi2_contingency(cross2)\n",
    "value = np.array([cross1.iloc[0][0:2].values,\n",
    "                  cross1.iloc[1][0:2].values])\n",
    "print(value)"
   ]
  },
  {
   "cell_type": "code",
   "execution_count": 33,
   "metadata": {},
   "outputs": [
    {
     "name": "stdout",
     "output_type": "stream",
     "text": [
      "(54.566230918555135, 5.671012146955914e-10, 6)\n"
     ]
    }
   ],
   "source": [
    "print(stats.chi2_contingency(cross1)[0:3])\n",
    "#scipy.stats.chi2_contingency\n",
    "#statistic,p-value,dof"
   ]
  },
  {
   "cell_type": "code",
   "execution_count": 10,
   "metadata": {},
   "outputs": [],
   "source": [
    "stats.chi2_contingency(cross1)\n"
   ]
  },
  {
   "cell_type": "code",
   "execution_count": 11,
   "metadata": {},
   "outputs": [
    {
     "data": {
      "text/plain": [
       "54.566230918555135"
      ]
     },
     "execution_count": 11,
     "metadata": {},
     "output_type": "execute_result"
    }
   ],
   "source": [
    "c"
   ]
  },
  {
   "cell_type": "code",
   "execution_count": 13,
   "metadata": {},
   "outputs": [
    {
     "data": {
      "text/plain": [
       "5.671012146955914e-10"
      ]
     },
     "execution_count": 13,
     "metadata": {},
     "output_type": "execute_result"
    }
   ],
   "source": [
    "p"
   ]
  },
  {
   "cell_type": "code",
   "execution_count": 14,
   "metadata": {},
   "outputs": [
    {
     "data": {
      "text/plain": [
       "array([[2.3904000e+00, 1.3609600e+01, 1.6000000e+01],\n",
       "       [6.9217020e+02, 3.9408298e+03, 4.6330000e+03],\n",
       "       [5.2439400e+01, 2.9856060e+02, 3.5100000e+02],\n",
       "       [7.4700000e+02, 4.2530000e+03, 5.0000000e+03]])"
      ]
     },
     "execution_count": 14,
     "metadata": {},
     "output_type": "execute_result"
    }
   ],
   "source": [
    "expected"
   ]
  },
  {
   "cell_type": "code",
   "execution_count": 15,
   "metadata": {},
   "outputs": [],
   "source": [
    "#df['Phone1']=df['PHONE']\n",
    "#2 and 0 : no phone given => 0\n",
    "#1: Home phone given"
   ]
  },
  {
   "cell_type": "code",
   "execution_count": 35,
   "metadata": {},
   "outputs": [],
   "source": [
    "df.loc[df['PHONE']=='Home number given','Phone1']=1\n",
    "df.loc[df['PHONE']!='Home number given','Phone1']=0\n",
    "#df['Phone1']=0\n",
    "#df.loc[df['PHONE']=='Home number given','Phone1']=1"
   ]
  },
  {
   "cell_type": "code",
   "execution_count": 36,
   "metadata": {},
   "outputs": [
    {
     "name": "stdout",
     "output_type": "stream",
     "text": [
      "0       1.0\n",
      "1       1.0\n",
      "2       0.0\n",
      "3       0.0\n",
      "4       1.0\n",
      "       ... \n",
      "4995    1.0\n",
      "4996    1.0\n",
      "4997    0.0\n",
      "4998    1.0\n",
      "4999    1.0\n",
      "Name: Phone1, Length: 5000, dtype: float64\n"
     ]
    }
   ],
   "source": [
    "print(df['Phone1'])"
   ]
  },
  {
   "cell_type": "code",
   "execution_count": 38,
   "metadata": {},
   "outputs": [
    {
     "data": {
      "text/html": [
       "<div>\n",
       "<style scoped>\n",
       "    .dataframe tbody tr th:only-of-type {\n",
       "        vertical-align: middle;\n",
       "    }\n",
       "\n",
       "    .dataframe tbody tr th {\n",
       "        vertical-align: top;\n",
       "    }\n",
       "\n",
       "    .dataframe thead th {\n",
       "        text-align: right;\n",
       "    }\n",
       "</style>\n",
       "<table border=\"1\" class=\"dataframe\">\n",
       "  <thead>\n",
       "    <tr style=\"text-align: right;\">\n",
       "      <th>FLAGBINARY</th>\n",
       "      <th>Bad</th>\n",
       "      <th>Good</th>\n",
       "    </tr>\n",
       "    <tr>\n",
       "      <th>Phone1</th>\n",
       "      <th></th>\n",
       "      <th></th>\n",
       "    </tr>\n",
       "  </thead>\n",
       "  <tbody>\n",
       "    <tr>\n",
       "      <th>0.0</th>\n",
       "      <td>0.277929</td>\n",
       "      <td>0.722071</td>\n",
       "    </tr>\n",
       "    <tr>\n",
       "      <th>1.0</th>\n",
       "      <td>0.139219</td>\n",
       "      <td>0.860781</td>\n",
       "    </tr>\n",
       "  </tbody>\n",
       "</table>\n",
       "</div>"
      ],
      "text/plain": [
       "FLAGBINARY       Bad      Good\n",
       "Phone1                        \n",
       "0.0         0.277929  0.722071\n",
       "1.0         0.139219  0.860781"
      ]
     },
     "execution_count": 38,
     "metadata": {},
     "output_type": "execute_result"
    }
   ],
   "source": [
    "pd.crosstab(df['Phone1'],df['FLAGBINARY'],margins=True,margins_name='Total')\n",
    "pd.crosstab(df['Phone1'],df['FLAGBINARY'],normalize='index')\n"
   ]
  },
  {
   "cell_type": "code",
   "execution_count": 39,
   "metadata": {},
   "outputs": [],
   "source": [
    "df.loc[df['Phone1']==1,'PhoneWoe']=0.08\n",
    "df.loc[df['Phone1']==0,'PhoneWoe']=-0.79"
   ]
  },
  {
   "cell_type": "code",
   "execution_count": 40,
   "metadata": {},
   "outputs": [
    {
     "name": "stdout",
     "output_type": "stream",
     "text": [
      "0       0.08\n",
      "1       0.08\n",
      "2      -0.79\n",
      "3      -0.79\n",
      "4       0.08\n",
      "        ... \n",
      "4995    0.08\n",
      "4996    0.08\n",
      "4997   -0.79\n",
      "4998    0.08\n",
      "4999    0.08\n",
      "Name: PhoneWoe, Length: 5000, dtype: float64\n"
     ]
    }
   ],
   "source": [
    "print(df['PhoneWoe'])"
   ]
  },
  {
   "cell_type": "code",
   "execution_count": 43,
   "metadata": {},
   "outputs": [
    {
     "data": {
      "text/html": [
       "<div>\n",
       "<style scoped>\n",
       "    .dataframe tbody tr th:only-of-type {\n",
       "        vertical-align: middle;\n",
       "    }\n",
       "\n",
       "    .dataframe tbody tr th {\n",
       "        vertical-align: top;\n",
       "    }\n",
       "\n",
       "    .dataframe thead th {\n",
       "        text-align: right;\n",
       "    }\n",
       "</style>\n",
       "<table border=\"1\" class=\"dataframe\">\n",
       "  <thead>\n",
       "    <tr style=\"text-align: right;\">\n",
       "      <th>FLAGBINARY</th>\n",
       "      <th>Bad</th>\n",
       "      <th>Good</th>\n",
       "    </tr>\n",
       "    <tr>\n",
       "      <th>MSTAT</th>\n",
       "      <th></th>\n",
       "      <th></th>\n",
       "    </tr>\n",
       "  </thead>\n",
       "  <tbody>\n",
       "    <tr>\n",
       "      <th>Co-habiting</th>\n",
       "      <td>0.136986</td>\n",
       "      <td>0.863014</td>\n",
       "    </tr>\n",
       "    <tr>\n",
       "      <th>Divorced</th>\n",
       "      <td>0.163895</td>\n",
       "      <td>0.836105</td>\n",
       "    </tr>\n",
       "    <tr>\n",
       "      <th>Married</th>\n",
       "      <td>0.101301</td>\n",
       "      <td>0.898699</td>\n",
       "    </tr>\n",
       "    <tr>\n",
       "      <th>Single</th>\n",
       "      <td>0.224842</td>\n",
       "      <td>0.775158</td>\n",
       "    </tr>\n",
       "    <tr>\n",
       "      <th>Widowed</th>\n",
       "      <td>0.063694</td>\n",
       "      <td>0.936306</td>\n",
       "    </tr>\n",
       "  </tbody>\n",
       "</table>\n",
       "</div>"
      ],
      "text/plain": [
       "FLAGBINARY        Bad      Good\n",
       "MSTAT                          \n",
       "Co-habiting  0.136986  0.863014\n",
       "Divorced     0.163895  0.836105\n",
       "Married      0.101301  0.898699\n",
       "Single       0.224842  0.775158\n",
       "Widowed      0.063694  0.936306"
      ]
     },
     "execution_count": 43,
     "metadata": {},
     "output_type": "execute_result"
    }
   ],
   "source": [
    "pd.crosstab(df['MSTAT'],df['FLAGBINARY'],margins=True,margins_name='Total')\n",
    "pd.crosstab(df['MSTAT'],df['FLAGBINARY'],normalize='index')\n"
   ]
  },
  {
   "cell_type": "code",
   "execution_count": 44,
   "metadata": {},
   "outputs": [
    {
     "data": {
      "text/plain": [
       "\"\\ndf.loc[(df['MSTAT']=='Co-habiting'),'MSgrouped']=3\\ndf.loc[(df['MSTAT']=='Divored'),'MSgrouped']=3\\ndf.loc[(df['MSTAT']=='Single'),'MSgrouped']=2\\ndf.loc[(df['MSTAT']=='Married'),'MSgrouped']=1\\ndf.loc[(df['MSTAT']=='Widowed'),'MSgrouped']=1\\n\""
      ]
     },
     "execution_count": 44,
     "metadata": {},
     "output_type": "execute_result"
    }
   ],
   "source": [
    "df.loc[(df['MSTAT']=='Co-habiting')|(df['MSTAT']=='Divorced'),'MSgrouped']=3\n",
    "df.loc[df['MSTAT']=='Single','MSgrouped']=2\n",
    "df.loc[(df['MSTAT']=='Married')|(df['MSTAT']=='Widowed'),'MSgrouped']=1\n",
    "#&:and |:or !=:unequal\n",
    "'''\n",
    "df.loc[(df['MSTAT']=='Co-habiting'),'MSgrouped']=3\n",
    "df.loc[(df['MSTAT']=='Divored'),'MSgrouped']=3\n",
    "df.loc[(df['MSTAT']=='Single'),'MSgrouped']=2\n",
    "df.loc[(df['MSTAT']=='Married'),'MSgrouped']=1\n",
    "df.loc[(df['MSTAT']=='Widowed'),'MSgrouped']=1\n",
    "'''"
   ]
  },
  {
   "cell_type": "code",
   "execution_count": 45,
   "metadata": {},
   "outputs": [
    {
     "name": "stdout",
     "output_type": "stream",
     "text": [
      "0       2.0\n",
      "1       2.0\n",
      "2       1.0\n",
      "3       1.0\n",
      "4       1.0\n",
      "       ... \n",
      "4995    2.0\n",
      "4996    1.0\n",
      "4997    3.0\n",
      "4998    1.0\n",
      "4999    3.0\n",
      "Name: MSgrouped, Length: 5000, dtype: float64\n"
     ]
    }
   ],
   "source": [
    "print(df['MSgrouped'])"
   ]
  },
  {
   "cell_type": "code",
   "execution_count": 46,
   "metadata": {},
   "outputs": [],
   "source": [
    "df['Married1']=0\n",
    "df['Married2']=0\n",
    "df.loc[df['MSgrouped']==1,'Married1']=1\n",
    "df.loc[df['MSgrouped']==2,'Married2']=1"
   ]
  },
  {
   "cell_type": "code",
   "execution_count": 47,
   "metadata": {},
   "outputs": [
    {
     "name": "stdout",
     "output_type": "stream",
     "text": [
      "0       0\n",
      "1       0\n",
      "2       1\n",
      "3       1\n",
      "4       1\n",
      "       ..\n",
      "4995    0\n",
      "4996    1\n",
      "4997    0\n",
      "4998    1\n",
      "4999    0\n",
      "Name: Married1, Length: 5000, dtype: int64 0       1\n",
      "1       1\n",
      "2       0\n",
      "3       0\n",
      "4       0\n",
      "       ..\n",
      "4995    1\n",
      "4996    0\n",
      "4997    0\n",
      "4998    0\n",
      "4999    0\n",
      "Name: Married2, Length: 5000, dtype: int64\n"
     ]
    }
   ],
   "source": [
    "print(df['Married1'],df['Married2'])"
   ]
  },
  {
   "cell_type": "code",
   "execution_count": 48,
   "metadata": {},
   "outputs": [
    {
     "data": {
      "text/html": [
       "<div>\n",
       "<style scoped>\n",
       "    .dataframe tbody tr th:only-of-type {\n",
       "        vertical-align: middle;\n",
       "    }\n",
       "\n",
       "    .dataframe tbody tr th {\n",
       "        vertical-align: top;\n",
       "    }\n",
       "\n",
       "    .dataframe thead th {\n",
       "        text-align: right;\n",
       "    }\n",
       "</style>\n",
       "<table border=\"1\" class=\"dataframe\">\n",
       "  <thead>\n",
       "    <tr style=\"text-align: right;\">\n",
       "      <th>FLAGBINARY</th>\n",
       "      <th>Bad</th>\n",
       "      <th>Good</th>\n",
       "      <th>Total</th>\n",
       "    </tr>\n",
       "    <tr>\n",
       "      <th>MSgrouped</th>\n",
       "      <th></th>\n",
       "      <th></th>\n",
       "      <th></th>\n",
       "    </tr>\n",
       "  </thead>\n",
       "  <tbody>\n",
       "    <tr>\n",
       "      <th>1.0</th>\n",
       "      <td>267</td>\n",
       "      <td>2427</td>\n",
       "      <td>2694</td>\n",
       "    </tr>\n",
       "    <tr>\n",
       "      <th>2.0</th>\n",
       "      <td>391</td>\n",
       "      <td>1348</td>\n",
       "      <td>1739</td>\n",
       "    </tr>\n",
       "    <tr>\n",
       "      <th>3.0</th>\n",
       "      <td>89</td>\n",
       "      <td>478</td>\n",
       "      <td>567</td>\n",
       "    </tr>\n",
       "    <tr>\n",
       "      <th>Total</th>\n",
       "      <td>747</td>\n",
       "      <td>4253</td>\n",
       "      <td>5000</td>\n",
       "    </tr>\n",
       "  </tbody>\n",
       "</table>\n",
       "</div>"
      ],
      "text/plain": [
       "FLAGBINARY  Bad  Good  Total\n",
       "MSgrouped                   \n",
       "1.0         267  2427   2694\n",
       "2.0         391  1348   1739\n",
       "3.0          89   478    567\n",
       "Total       747  4253   5000"
      ]
     },
     "execution_count": 48,
     "metadata": {},
     "output_type": "execute_result"
    }
   ],
   "source": [
    "pd.crosstab(df['MSgrouped'],df['FLAGBINARY'],margins=True,margins_name='Total')"
   ]
  },
  {
   "cell_type": "code",
   "execution_count": 26,
   "metadata": {},
   "outputs": [
    {
     "name": "stdout",
     "output_type": "stream",
     "text": [
      "0.3956142798461641\n",
      "-0.5016449786339295\n",
      "-0.05834034736150013\n"
     ]
    }
   ],
   "source": [
    "import math\n",
    "print(math.log(2427*747/(287*4253))) #0.40\n",
    "print(math.log(1348*747/(391*4253))) #-0.50\n",
    "print(math.log(478*747/(89*4253))) #-0.06"
   ]
  },
  {
   "cell_type": "code",
   "execution_count": 49,
   "metadata": {},
   "outputs": [],
   "source": [
    "df['MSgroupedWOE']=0"
   ]
  },
  {
   "cell_type": "code",
   "execution_count": 51,
   "metadata": {},
   "outputs": [],
   "source": [
    "df.loc[(df['MSgrouped']==1),'MSgroupedWOE']=0.40\n",
    "df.loc[(df['MSgrouped']==2),'MSgroupedWOE']=-0.50\n",
    "df.loc[(df['MSgrouped']==3),'MSgroupedWOE']=-0.06"
   ]
  },
  {
   "cell_type": "code",
   "execution_count": 52,
   "metadata": {},
   "outputs": [
    {
     "name": "stdout",
     "output_type": "stream",
     "text": [
      "0      -0.50\n",
      "1      -0.50\n",
      "2       0.40\n",
      "3       0.40\n",
      "4       0.40\n",
      "        ... \n",
      "4995   -0.50\n",
      "4996    0.40\n",
      "4997   -0.06\n",
      "4998    0.40\n",
      "4999   -0.06\n",
      "Name: MSgroupedWOE, Length: 5000, dtype: float64\n"
     ]
    }
   ],
   "source": [
    "print(df['MSgroupedWOE'])"
   ]
  },
  {
   "cell_type": "code",
   "execution_count": 53,
   "metadata": {},
   "outputs": [],
   "source": [
    "df.to_csv('test.csv',index='False')"
   ]
  },
  {
   "cell_type": "code",
   "execution_count": null,
   "metadata": {},
   "outputs": [],
   "source": []
  }
 ],
 "metadata": {
  "kernelspec": {
   "display_name": "Python 3 (ipykernel)",
   "language": "python",
   "name": "python3"
  },
  "language_info": {
   "codemirror_mode": {
    "name": "ipython",
    "version": 3
   },
   "file_extension": ".py",
   "mimetype": "text/x-python",
   "name": "python",
   "nbconvert_exporter": "python",
   "pygments_lexer": "ipython3",
   "version": "3.9.2"
  }
 },
 "nbformat": 4,
 "nbformat_minor": 2
}
