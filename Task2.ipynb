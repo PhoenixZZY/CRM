{
 "cells": [
  {
   "cell_type": "code",
   "execution_count": 2,
   "id": "environmental-physiology",
   "metadata": {},
   "outputs": [],
   "source": [
    "import matplotlib as mpl\n",
    "import matplotlib.pyplot as plt\n",
    "from scipy import stats\n",
    "import pandas as pd\n",
    "import numpy as np"
   ]
  },
  {
   "cell_type": "code",
   "execution_count": 3,
   "id": "wired-edward",
   "metadata": {},
   "outputs": [],
   "source": [
    "data = pd.read_csv('test.csv')"
   ]
  },
  {
   "cell_type": "code",
   "execution_count": 5,
   "id": "unusual-story",
   "metadata": {},
   "outputs": [],
   "source": [
    "graph_data1=data['AGE']\n",
    "graph_data2=data['TAD']"
   ]
  },
  {
   "cell_type": "code",
   "execution_count": 6,
   "id": "designed-duration",
   "metadata": {},
   "outputs": [
    {
     "data": {
      "text/plain": [
       "(array([173., 147., 136., 293., 159., 141., 311., 176., 155., 312., 185.,\n",
       "        178., 314., 134., 166., 305., 119., 139., 187., 111., 101., 171.,\n",
       "         75.,  61., 119.,  25.,  41.,  62.,  38.,  45.,  58.,  45.,  38.,\n",
       "         72.,  33.,  30.,  43.,  27.,  46.,  29.]),\n",
       " array([18.   , 19.325, 20.65 , 21.975, 23.3  , 24.625, 25.95 , 27.275,\n",
       "        28.6  , 29.925, 31.25 , 32.575, 33.9  , 35.225, 36.55 , 37.875,\n",
       "        39.2  , 40.525, 41.85 , 43.175, 44.5  , 45.825, 47.15 , 48.475,\n",
       "        49.8  , 51.125, 52.45 , 53.775, 55.1  , 56.425, 57.75 , 59.075,\n",
       "        60.4  , 61.725, 63.05 , 64.375, 65.7  , 67.025, 68.35 , 69.675,\n",
       "        71.   ]),\n",
       " <BarContainer object of 40 artists>)"
      ]
     },
     "execution_count": 6,
     "metadata": {},
     "output_type": "execute_result"
    },
    {
     "data": {
      "image/png": "[encoded data removed]",
      "text/plain": [
       "<Figure size 432x288 with 1 Axes>"
      ]
     },
     "metadata": {
      "needs_background": "light"
     },
     "output_type": "display_data"
    }
   ],
   "source": [
    "plt.hist(graph_data1,bins=40)"
   ]
  },
  {
   "cell_type": "code",
   "execution_count": 21,
   "id": "recent-metabolism",
   "metadata": {},
   "outputs": [
    {
     "data": {
      "text/plain": [
       "(array([1977.,  941.,  473.,  459.,  236.,  218.,  140.,  167.,   96.,\n",
       "          66.,   69.,   38.,   20.,   27.,   18.,   15.,   15.,   10.,\n",
       "          11.,    4.]),\n",
       " array([  0. ,  31.2,  62.4,  93.6, 124.8, 156. , 187.2, 218.4, 249.6,\n",
       "        280.8, 312. , 343.2, 374.4, 405.6, 436.8, 468. , 499.2, 530.4,\n",
       "        561.6, 592.8, 624. ]),\n",
       " <BarContainer object of 20 artists>)"
      ]
     },
     "execution_count": 21,
     "metadata": {},
     "output_type": "execute_result"
    },
    {
     "data": {
      "image/png": "[encoded data removed]",
      "text/plain": [
       "<Figure size 432x288 with 1 Axes>"
      ]
     },
     "metadata": {
      "needs_background": "light"
     },
     "output_type": "display_data"
    }
   ],
   "source": [
    "plt.hist(graph_data2,bins=20)"
   ]
  },
  {
   "cell_type": "code",
   "execution_count": 22,
   "id": "casual-american",
   "metadata": {},
   "outputs": [
    {
     "name": "stdout",
     "output_type": "stream",
     "text": [
      "4.0\n",
      "12.0\n",
      "21.0\n",
      "32.0\n",
      "45.0\n",
      "64.0\n",
      "100.0\n",
      "144.0\n",
      "226.0\n",
      "623.9999999999891\n",
      "0                   101.0<Age<=144.0\n",
      "1                     22.0<Age<=32.0\n",
      "2                     13.0<Age<=21.0\n",
      "3       227.0<Age<=623.9999999999891\n",
      "4                      5.0<Age<=12.0\n",
      "                    ...             \n",
      "4995                 65.0<Age<=100.0\n",
      "4996                145.0<Age<=226.0\n",
      "4997                  22.0<Age<=32.0\n",
      "4998                145.0<Age<=226.0\n",
      "4999                      0<Age<=4.0\n",
      "Name: TADBIN, Length: 5000, dtype: object\n"
     ]
    }
   ],
   "source": [
    "i = 0.1\n",
    "k = -1\n",
    "t = 0\n",
    "data['TADBIN']=''\n",
    "data['TADTemp']=''\n",
    "while i < 1:\n",
    "    t=k\n",
    "    k=data['TAD'].quantile(i) #0.1 0.1 (number) 0.9\n",
    "    data.loc[(data['TAD']<=k)&(data['TAD']>t),'TADBIN']=str(str(t+1)+'<'+'Age'+'<='+str(k))\n",
    "    data.loc[(data['TAD']<=k)&(data['TAD']>t),'TADTemp']=(i*10)\n",
    "    print(k)\n",
    "    i+=0.1\n",
    "print(data['TADBIN'])\n",
    "#data.loc[data['TADTemp']==7,'TADTemp']=6\n",
    "#data.loc[data['TADTemp']==9,'TADTemp']=8"
   ]
  },
  {
   "cell_type": "code",
   "execution_count": 15,
   "id": "standing-recovery",
   "metadata": {},
   "outputs": [
    {
     "name": "stdout",
     "output_type": "stream",
     "text": [
      "22.0\n",
      "25.0\n",
      "28.0\n",
      "31.0\n",
      "34.0\n",
      "38.0\n",
      "41.0\n",
      "46.0\n",
      "56.0\n",
      "71.0\n",
      "0       57.0<Age<=71.0\n",
      "1          0<Age<=22.0\n",
      "2       39.0<Age<=41.0\n",
      "3       39.0<Age<=41.0\n",
      "4       57.0<Age<=71.0\n",
      "             ...      \n",
      "4995    23.0<Age<=25.0\n",
      "4996    32.0<Age<=34.0\n",
      "4997    35.0<Age<=38.0\n",
      "4998    39.0<Age<=41.0\n",
      "4999    23.0<Age<=25.0\n",
      "Name: AGEBIN, Length: 5000, dtype: object\n"
     ]
    }
   ],
   "source": [
    "i = 0.1\n",
    "k = -1\n",
    "t = 0\n",
    "data['AGEBIN']=''\n",
    "data['AGETemp']=''\n",
    "while i < 1:\n",
    "    t=k\n",
    "    k=data['AGE'].quantile(i) #0.1 0.1 (number) 0.9\n",
    "    data.loc[(data['AGE']<=k)&(data['AGE']>t),'AGEBIN']=str(str(t+1)+'<'+'Age'+'<='+str(k))\n",
    "    data.loc[(data['AGE']<=k)&(data['AGE']>t),'AGETemp']=(i*10)\n",
    "    print(k)\n",
    "    i+=0.1\n",
    "print(data['AGEBIN'])\n",
    "data.loc[data['AGETemp']==7,'AGETemp']=6\n",
    "data.loc[data['AGETemp']==9,'AGETemp']=8"
   ]
  },
  {
   "cell_type": "code",
   "execution_count": 14,
   "id": "lesser-beaver",
   "metadata": {},
   "outputs": [
    {
     "data": {
      "text/html": [
       "<div>\n",
       "<style scoped>\n",
       "    .dataframe tbody tr th:only-of-type {\n",
       "        vertical-align: middle;\n",
       "    }\n",
       "\n",
       "    .dataframe tbody tr th {\n",
       "        vertical-align: top;\n",
       "    }\n",
       "\n",
       "    .dataframe thead th {\n",
       "        text-align: right;\n",
       "    }\n",
       "</style>\n",
       "<table border=\"1\" class=\"dataframe\">\n",
       "  <thead>\n",
       "    <tr style=\"text-align: right;\">\n",
       "      <th>FLAGBINARY</th>\n",
       "      <th>Bad</th>\n",
       "      <th>Good</th>\n",
       "      <th>Total</th>\n",
       "    </tr>\n",
       "    <tr>\n",
       "      <th>AGEBIN</th>\n",
       "      <th></th>\n",
       "      <th></th>\n",
       "      <th></th>\n",
       "    </tr>\n",
       "  </thead>\n",
       "  <tbody>\n",
       "    <tr>\n",
       "      <th>0&lt;Age&lt;=22.0</th>\n",
       "      <td>185</td>\n",
       "      <td>414</td>\n",
       "      <td>599</td>\n",
       "    </tr>\n",
       "    <tr>\n",
       "      <th>23.0&lt;Age&lt;=25.0</th>\n",
       "      <td>117</td>\n",
       "      <td>333</td>\n",
       "      <td>450</td>\n",
       "    </tr>\n",
       "    <tr>\n",
       "      <th>26.0&lt;Age&lt;=28.0</th>\n",
       "      <td>92</td>\n",
       "      <td>395</td>\n",
       "      <td>487</td>\n",
       "    </tr>\n",
       "    <tr>\n",
       "      <th>29.0&lt;Age&lt;=31.0</th>\n",
       "      <td>68</td>\n",
       "      <td>399</td>\n",
       "      <td>467</td>\n",
       "    </tr>\n",
       "    <tr>\n",
       "      <th>32.0&lt;Age&lt;=34.0</th>\n",
       "      <td>54</td>\n",
       "      <td>490</td>\n",
       "      <td>544</td>\n",
       "    </tr>\n",
       "    <tr>\n",
       "      <th>35.0&lt;Age&lt;=38.0</th>\n",
       "      <td>72</td>\n",
       "      <td>515</td>\n",
       "      <td>587</td>\n",
       "    </tr>\n",
       "    <tr>\n",
       "      <th>39.0&lt;Age&lt;=41.0</th>\n",
       "      <td>50</td>\n",
       "      <td>359</td>\n",
       "      <td>409</td>\n",
       "    </tr>\n",
       "    <tr>\n",
       "      <th>42.0&lt;Age&lt;=46.0</th>\n",
       "      <td>44</td>\n",
       "      <td>444</td>\n",
       "      <td>488</td>\n",
       "    </tr>\n",
       "    <tr>\n",
       "      <th>47.0&lt;Age&lt;=56.0</th>\n",
       "      <td>40</td>\n",
       "      <td>463</td>\n",
       "      <td>503</td>\n",
       "    </tr>\n",
       "    <tr>\n",
       "      <th>57.0&lt;Age&lt;=71.0</th>\n",
       "      <td>25</td>\n",
       "      <td>441</td>\n",
       "      <td>466</td>\n",
       "    </tr>\n",
       "    <tr>\n",
       "      <th>Total</th>\n",
       "      <td>747</td>\n",
       "      <td>4253</td>\n",
       "      <td>5000</td>\n",
       "    </tr>\n",
       "  </tbody>\n",
       "</table>\n",
       "</div>"
      ],
      "text/plain": [
       "FLAGBINARY      Bad  Good  Total\n",
       "AGEBIN                          \n",
       "0<Age<=22.0     185   414    599\n",
       "23.0<Age<=25.0  117   333    450\n",
       "26.0<Age<=28.0   92   395    487\n",
       "29.0<Age<=31.0   68   399    467\n",
       "32.0<Age<=34.0   54   490    544\n",
       "35.0<Age<=38.0   72   515    587\n",
       "39.0<Age<=41.0   50   359    409\n",
       "42.0<Age<=46.0   44   444    488\n",
       "47.0<Age<=56.0   40   463    503\n",
       "57.0<Age<=71.0   25   441    466\n",
       "Total           747  4253   5000"
      ]
     },
     "execution_count": 14,
     "metadata": {},
     "output_type": "execute_result"
    }
   ],
   "source": [
    "pd.crosstab(data['AGEBIN'],data['FLAGBINARY'],margins=True,margins_name='Total')\n"
   ]
  },
  {
   "cell_type": "code",
   "execution_count": 23,
   "id": "piano-durham",
   "metadata": {},
   "outputs": [
    {
     "data": {
      "text/html": [
       "<div>\n",
       "<style scoped>\n",
       "    .dataframe tbody tr th:only-of-type {\n",
       "        vertical-align: middle;\n",
       "    }\n",
       "\n",
       "    .dataframe tbody tr th {\n",
       "        vertical-align: top;\n",
       "    }\n",
       "\n",
       "    .dataframe thead th {\n",
       "        text-align: right;\n",
       "    }\n",
       "</style>\n",
       "<table border=\"1\" class=\"dataframe\">\n",
       "  <thead>\n",
       "    <tr style=\"text-align: right;\">\n",
       "      <th>FLAGBINARY</th>\n",
       "      <th>Bad</th>\n",
       "      <th>Good</th>\n",
       "      <th>Total</th>\n",
       "    </tr>\n",
       "    <tr>\n",
       "      <th>TADBIN</th>\n",
       "      <th></th>\n",
       "      <th></th>\n",
       "      <th></th>\n",
       "    </tr>\n",
       "  </thead>\n",
       "  <tbody>\n",
       "    <tr>\n",
       "      <th></th>\n",
       "      <td>0</td>\n",
       "      <td>1</td>\n",
       "      <td>1</td>\n",
       "    </tr>\n",
       "    <tr>\n",
       "      <th>0&lt;Age&lt;=4.0</th>\n",
       "      <td>116</td>\n",
       "      <td>408</td>\n",
       "      <td>524</td>\n",
       "    </tr>\n",
       "    <tr>\n",
       "      <th>101.0&lt;Age&lt;=144.0</th>\n",
       "      <td>52</td>\n",
       "      <td>433</td>\n",
       "      <td>485</td>\n",
       "    </tr>\n",
       "    <tr>\n",
       "      <th>13.0&lt;Age&lt;=21.0</th>\n",
       "      <td>76</td>\n",
       "      <td>340</td>\n",
       "      <td>416</td>\n",
       "    </tr>\n",
       "    <tr>\n",
       "      <th>145.0&lt;Age&lt;=226.0</th>\n",
       "      <td>40</td>\n",
       "      <td>443</td>\n",
       "      <td>483</td>\n",
       "    </tr>\n",
       "    <tr>\n",
       "      <th>22.0&lt;Age&lt;=32.0</th>\n",
       "      <td>93</td>\n",
       "      <td>403</td>\n",
       "      <td>496</td>\n",
       "    </tr>\n",
       "    <tr>\n",
       "      <th>227.0&lt;Age&lt;=623.9999999999891</th>\n",
       "      <td>35</td>\n",
       "      <td>463</td>\n",
       "      <td>498</td>\n",
       "    </tr>\n",
       "    <tr>\n",
       "      <th>33.0&lt;Age&lt;=45.0</th>\n",
       "      <td>72</td>\n",
       "      <td>431</td>\n",
       "      <td>503</td>\n",
       "    </tr>\n",
       "    <tr>\n",
       "      <th>46.0&lt;Age&lt;=64.0</th>\n",
       "      <td>63</td>\n",
       "      <td>429</td>\n",
       "      <td>492</td>\n",
       "    </tr>\n",
       "    <tr>\n",
       "      <th>5.0&lt;Age&lt;=12.0</th>\n",
       "      <td>139</td>\n",
       "      <td>433</td>\n",
       "      <td>572</td>\n",
       "    </tr>\n",
       "    <tr>\n",
       "      <th>65.0&lt;Age&lt;=100.0</th>\n",
       "      <td>61</td>\n",
       "      <td>469</td>\n",
       "      <td>530</td>\n",
       "    </tr>\n",
       "    <tr>\n",
       "      <th>Total</th>\n",
       "      <td>747</td>\n",
       "      <td>4253</td>\n",
       "      <td>5000</td>\n",
       "    </tr>\n",
       "  </tbody>\n",
       "</table>\n",
       "</div>"
      ],
      "text/plain": [
       "FLAGBINARY                    Bad  Good  Total\n",
       "TADBIN                                        \n",
       "                                0     1      1\n",
       "0<Age<=4.0                    116   408    524\n",
       "101.0<Age<=144.0               52   433    485\n",
       "13.0<Age<=21.0                 76   340    416\n",
       "145.0<Age<=226.0               40   443    483\n",
       "22.0<Age<=32.0                 93   403    496\n",
       "227.0<Age<=623.9999999999891   35   463    498\n",
       "33.0<Age<=45.0                 72   431    503\n",
       "46.0<Age<=64.0                 63   429    492\n",
       "5.0<Age<=12.0                 139   433    572\n",
       "65.0<Age<=100.0                61   469    530\n",
       "Total                         747  4253   5000"
      ]
     },
     "execution_count": 23,
     "metadata": {},
     "output_type": "execute_result"
    }
   ],
   "source": [
    "pd.crosstab(data['TADBIN'],data['FLAGBINARY'],margins=True,margins_name='Total')\n",
    "\n",
    "log((good_group/good_total)/(bad_group*bad_total)\n"
   ]
  },
  {
   "cell_type": "code",
   "execution_count": 20,
   "id": "digital-secondary",
   "metadata": {},
   "outputs": [
    {
     "name": "stdout",
     "output_type": "stream",
     "text": [
      "1.130854340457829\n",
      "0.7095328898514817\n"
     ]
    }
   ],
   "source": [
    "import math\n",
    "print(math.log((441*747)/(25*4253)))\n",
    "print(math.log((463*747)/(40*4253)))"
   ]
  },
  {
   "cell_type": "code",
   "execution_count": 16,
   "id": "honest-donor",
   "metadata": {},
   "outputs": [],
   "source": [
    "o = 1\n",
    "while o <= 8:\n",
    "    data[('AgeGr'+str(o))]=0\n",
    "    data.loc[data['AGETemp']==o,('AgeGr'+str(o))]=1\n",
    "    o+=1"
   ]
  },
  {
   "cell_type": "code",
   "execution_count": null,
   "id": "outside-opera",
   "metadata": {},
   "outputs": [],
   "source": []
  },
  {
   "cell_type": "code",
   "execution_count": 29,
   "id": "exclusive-baseline",
   "metadata": {},
   "outputs": [
    {
     "name": "stdout",
     "output_type": "stream",
     "text": [
      "      Unnamed: 0  Unnamed: 0.1      ID FLAGBINARY                  PHONE  \\\n",
      "0              0             0     1.0        Bad      Home number given   \n",
      "1              1             1     2.0       Good      Home number given   \n",
      "2              2             2     3.0        Bad  No phone number given   \n",
      "3              3             3     5.0        Bad  No phone number given   \n",
      "4              4             4     6.0       Good      Home number given   \n",
      "...          ...           ...     ...        ...                    ...   \n",
      "4995        4995          4995  6993.0        Bad      Home number given   \n",
      "4996        4996          4996  6994.0       Good      Home number given   \n",
      "4997        4997          4997  6997.0       Good  No phone number given   \n",
      "4998        4998          4998  6998.0       Good      Home number given   \n",
      "4999        4999          4999  7000.0       Good      Home number given   \n",
      "\n",
      "            MSTAT          RSTAT  KIDS                    CARDI CARDH2  ...  \\\n",
      "0          Single   Renting flat   0.0  No card insurance taken     No  ...   \n",
      "1          Single   Renting flat   0.0  No card insurance taken     No  ...   \n",
      "2         Married  Renting house   3.0  No card insurance taken     No  ...   \n",
      "3         Widowed     Home owner   6.0  No card insurance taken     No  ...   \n",
      "4         Married   Renting flat   0.0  No card insurance taken     No  ...   \n",
      "...           ...            ...   ...                      ...    ...  ...   \n",
      "4995       Single   Renting flat   0.0  No card insurance taken     No  ...   \n",
      "4996      Married   Renting flat   1.0  No card insurance taken     No  ...   \n",
      "4997     Divorced     Home owner   2.0  No card insurance taken     No  ...   \n",
      "4998      Married   Renting flat   2.0  No card insurance taken     No  ...   \n",
      "4999  Co-habiting   Renting flat   1.0  No card insurance taken     No  ...   \n",
      "\n",
      "              AGEBIN  AGETemp  AgeGr1  AgeGr2  AgeGr3  AgeGr4  AgeGr5  AgeGr6  \\\n",
      "0     57.0<Age<=71.0     10.0       0       0       0       0       0       0   \n",
      "1        0<Age<=22.0      1.0       1       0       0       0       0       0   \n",
      "2     39.0<Age<=41.0        6       0       0       0       0       0       1   \n",
      "3     39.0<Age<=41.0        6       0       0       0       0       0       1   \n",
      "4     57.0<Age<=71.0     10.0       0       0       0       0       0       0   \n",
      "...              ...      ...     ...     ...     ...     ...     ...     ...   \n",
      "4995  23.0<Age<=25.0      2.0       0       1       0       0       0       0   \n",
      "4996  32.0<Age<=34.0      5.0       0       0       0       0       1       0   \n",
      "4997  35.0<Age<=38.0      6.0       0       0       0       0       0       1   \n",
      "4998  39.0<Age<=41.0        6       0       0       0       0       0       1   \n",
      "4999  23.0<Age<=25.0      2.0       0       1       0       0       0       0   \n",
      "\n",
      "      AgeGr7  AgeGr8  \n",
      "0          0       0  \n",
      "1          0       0  \n",
      "2          0       0  \n",
      "3          0       0  \n",
      "4          0       0  \n",
      "...      ...     ...  \n",
      "4995       0       0  \n",
      "4996       0       0  \n",
      "4997       0       0  \n",
      "4998       0       0  \n",
      "4999       0       0  \n",
      "\n",
      "[5000 rows x 43 columns]\n"
     ]
    }
   ],
   "source": [
    "print (data)"
   ]
  },
  {
   "cell_type": "code",
   "execution_count": null,
   "id": "hungry-invalid",
   "metadata": {},
   "outputs": [],
   "source": []
  }
 ],
 "metadata": {
  "kernelspec": {
   "display_name": "Python 3 (ipykernel)",
   "language": "python",
   "name": "python3"
  },
  "language_info": {
   "codemirror_mode": {
    "name": "ipython",
    "version": 3
   },
   "file_extension": ".py",
   "mimetype": "text/x-python",
   "name": "python",
   "nbconvert_exporter": "python",
   "pygments_lexer": "ipython3",
   "version": "3.9.2"
  }
 },
 "nbformat": 4,
 "nbformat_minor": 5
}
